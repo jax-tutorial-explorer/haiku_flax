{
  "nbformat": 4,
  "nbformat_minor": 0,
  "metadata": {
    "colab": {
      "name": "01_shallow_learning.ipynb",
      "provenance": [],
      "authorship_tag": "ABX9TyN5VKSq8NrP+REfNLyvIxef",
      "include_colab_link": true
    },
    "kernelspec": {
      "name": "python3",
      "display_name": "Python 3"
    },
    "language_info": {
      "name": "python"
    }
  },
  "cells": [
    {
      "cell_type": "markdown",
      "metadata": {
        "id": "view-in-github",
        "colab_type": "text"
      },
      "source": [
        "<a href=\"https://colab.research.google.com/github/jax-tutorial-explorer/haiku_scripts/blob/main/01_shallow_learning.ipynb\" target=\"_parent\"><img src=\"https://colab.research.google.com/assets/colab-badge.svg\" alt=\"Open In Colab\"/></a>"
      ]
    },
    {
      "cell_type": "code",
      "metadata": {
        "colab": {
          "base_uri": "https://localhost:8080/"
        },
        "id": "IQ3pFZyxXRYe",
        "outputId": "0a51037e-63d8-4911-b020-bb0442213373"
      },
      "source": [
        "!pip install haiku"
      ],
      "execution_count": 1,
      "outputs": [
        {
          "output_type": "stream",
          "name": "stdout",
          "text": [
            "\u001b[31mERROR: Could not find a version that satisfies the requirement haiku (from versions: 0.01_20110820-135621)\u001b[0m\n",
            "\u001b[31mERROR: No matching distribution found for haiku\u001b[0m\n"
          ]
        }
      ]
    },
    {
      "cell_type": "code",
      "metadata": {
        "id": "7iaSlmAMR7zA"
      },
      "source": [
        ""
      ],
      "execution_count": null,
      "outputs": []
    }
  ]
}